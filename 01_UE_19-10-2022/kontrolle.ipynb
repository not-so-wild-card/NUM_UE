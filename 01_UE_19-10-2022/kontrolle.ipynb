{
 "cells": [
  {
   "cell_type": "code",
   "execution_count": 2,
   "id": "6d42cbb3",
   "metadata": {},
   "outputs": [],
   "source": [
    "A = [1 -2 0; -1 0 2];\n",
    "B = [2 4; 1 0; 1 3];\n",
    "C = [1 -1; 1 1];\n",
    "D = [1 1; -1 1];\n",
    "\n",
    "x = [1; -1; 1];\n",
    "y = [1; 1];\n"
   ]
  },
  {
   "cell_type": "code",
   "execution_count": 7,
   "id": "5601efaa",
   "metadata": {},
   "outputs": [
    {
     "name": "stdout",
     "output_type": "stream",
     "text": [
      "ans =\n",
      "\n",
      "   1\n",
      "   2\n",
      "   3\n",
      "   4\n",
      "   5\n",
      "\n"
     ]
    }
   ],
   "source": [
    "(1:5)'"
   ]
  },
  {
   "cell_type": "code",
   "execution_count": 26,
   "id": "00844b32",
   "metadata": {},
   "outputs": [],
   "source": [
    "A = [1 -2 0; -1 0 2];\n",
    "B = [2 4; 1 0; 1 3];\n",
    "C = [1 -1; 1 1];"
   ]
  },
  {
   "cell_type": "code",
   "execution_count": 6,
   "id": "2e037daa",
   "metadata": {},
   "outputs": [
    {
     "name": "stdout",
     "output_type": "stream",
     "text": [
      "error: det: A must be a square matrix\n"
     ]
    }
   ],
   "source": [
    "det(B)'"
   ]
  },
  {
   "cell_type": "code",
   "execution_count": 44,
   "id": "82e9d9e6",
   "metadata": {},
   "outputs": [],
   "source": [
    "A = [4 -1 0; 8 -1 -3; -16 7 -4];\n",
    "B = [1 0 0; 2 1 0; -4 3 1];\n",
    "C = [4 -1 0; 0 1 -3; 0 0 5];"
   ]
  },
  {
   "cell_type": "code",
   "execution_count": 55,
   "id": "cb23bce2",
   "metadata": {},
   "outputs": [],
   "source": [
    "w = 1/sqrt(2);\n",
    "A = [1 -1 0; 1 1 0; 0 0 1];\n",
    "B = [1 1 0; 1 -1 0; 0 0 1/2];\n",
    "C = [w -1/2 1/2; -1/2 1/2 w; 1/2 -1/2 w];"
   ]
  },
  {
   "cell_type": "code",
   "execution_count": 89,
   "id": "a91f4ad7",
   "metadata": {},
   "outputs": [
    {
     "name": "stdout",
     "output_type": "stream",
     "text": [
      "x =\n",
      "\n",
      "   0.6000   0.8000\n",
      "   0.8000  -0.6000\n",
      "\n",
      "xt =\n",
      "\n",
      "   0.6000   0.8000\n",
      "   0.8000  -0.6000\n",
      "\n",
      "ans = 0\n"
     ]
    }
   ],
   "source": [
    "a = 1/5;\n",
    "b = -3;\n",
    "x = a*[3 4; 4 b]\n",
    "xt= x'\n",
    "0.8*0.6 + 0.8*(-0.6)"
   ]
  },
  {
   "cell_type": "code",
   "execution_count": 64,
   "id": "1d95d8de",
   "metadata": {},
   "outputs": [
    {
     "name": "stdout",
     "output_type": "stream",
     "text": [
      "ans =\n",
      "\n",
      "   3   4\n",
      "   4  -3\n",
      "\n"
     ]
    }
   ],
   "source": [
    "[3 4; 4 -3]"
   ]
  },
  {
   "cell_type": "code",
   "execution_count": 97,
   "id": "69443b6a",
   "metadata": {},
   "outputs": [
    {
     "name": "stdout",
     "output_type": "stream",
     "text": [
      "ans = 14.000\n"
     ]
    }
   ],
   "source": [
    "A = [-4 0 0; 0 -1 0; 0 0 -5];\n",
    "B = [0 sqrt(2) 0; sqrt(2) 2 2*sqrt(2); 0 2*sqrt(2) 0];\n",
    "C = [2 0 1; 0 1 0; 1 0 4];\n",
    "D = [4 0 1; 0 2 0; 1 0 2];\n",
    "det(D)"
   ]
  },
  {
   "cell_type": "code",
   "execution_count": 91,
   "id": "63c83e8a",
   "metadata": {},
   "outputs": [
    {
     "name": "stdout",
     "output_type": "stream",
     "text": [
      "ans = -15.260\n"
     ]
    }
   ],
   "source": [
    "A = [2 -2 -1.9; -2 6 -1; -1.9 -1 2];\n",
    "det(A)"
   ]
  },
  {
   "cell_type": "code",
   "execution_count": null,
   "id": "ad0791f7",
   "metadata": {},
   "outputs": [],
   "source": []
  }
 ],
 "metadata": {
  "kernelspec": {
   "display_name": "Octave",
   "language": "octave",
   "name": "octave"
  },
  "language_info": {
   "file_extension": ".m",
   "help_links": [
    {
     "text": "GNU Octave",
     "url": "https://www.gnu.org/software/octave/support.html"
    },
    {
     "text": "Octave Kernel",
     "url": "https://github.com/Calysto/octave_kernel"
    },
    {
     "text": "MetaKernel Magics",
     "url": "https://metakernel.readthedocs.io/en/latest/source/README.html"
    }
   ],
   "mimetype": "text/x-octave",
   "name": "octave",
   "version": "7.2.0"
  }
 },
 "nbformat": 4,
 "nbformat_minor": 5
}
