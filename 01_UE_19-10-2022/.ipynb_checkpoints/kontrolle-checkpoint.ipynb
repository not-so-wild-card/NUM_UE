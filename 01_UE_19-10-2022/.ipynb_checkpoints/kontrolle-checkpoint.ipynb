{
 "cells": [
  {
   "cell_type": "code",
   "execution_count": 5,
   "id": "6d42cbb3",
   "metadata": {},
   "outputs": [],
   "source": [
    "A = [1 -2 0; -1 0 2];\n",
    "B = [2 4; 1 0; 1 3];\n",
    "C = [1 -1; 1 1];\n",
    "D = [1 1; -1 1];\n",
    "\n",
    "x = [1; -1; 1];\n",
    "y = [1; 1];\n"
   ]
  },
  {
   "cell_type": "code",
   "execution_count": null,
   "id": "6f205151",
   "metadata": {},
   "outputs": [],
   "source": [
    "A*B"
   ]
  },
  {
   "cell_type": "code",
   "execution_count": 26,
   "id": "00844b32",
   "metadata": {},
   "outputs": [],
   "source": [
    "A = [1 -2 0; -1 0 2];\n",
    "B = [2 4; 1 0; 1 3];\n",
    "C = [1 -1; 1 1];"
   ]
  },
  {
   "cell_type": "code",
   "execution_count": 2,
   "id": "82e9d9e6",
   "metadata": {},
   "outputs": [],
   "source": [
    "A = [4 -1 0; 8 -1 -3; -16 7 -4];\n",
    "B = [1 0 0; 2 1 0; -4 3 1];\n",
    "C = [4 -1 0; 0 1 -3; 0 0 5];"
   ]
  },
  {
   "cell_type": "code",
   "execution_count": 32,
   "id": "cb23bce2",
   "metadata": {},
   "outputs": [],
   "source": [
    "w = 1/sqrt(2);\n",
    "A = [1 -1 0; 1 1 0; 0 0 1];\n",
    "B = [1 1 0; 1 -1 0; 0 0 1/2];\n",
    "C = [w -1/2 1/2; -1/2 1/2 w; 1/2 -1/2 w];"
   ]
  },
  {
   "cell_type": "code",
   "execution_count": 6,
   "id": "69443b6a",
   "metadata": {},
   "outputs": [],
   "source": [
    "A = [-4 0 0; 0 -1 0; 0 0 -5];\n",
    "B = [0 sqrt(2) 0; sqrt(2) 2 2*sqrt(2); 0 2*sqrt(2) 0];\n",
    "C = [2 0 1; 0 1 0; 1 0 4];\n",
    "D = [4 0 1; 0 2 0; 1 0 2];"
   ]
  },
  {
   "cell_type": "code",
   "execution_count": 23,
   "id": "63c83e8a",
   "metadata": {},
   "outputs": [
    {
     "name": "stdout",
     "output_type": "stream",
     "text": [
      "ans = -15.260\n"
     ]
    }
   ],
   "source": [
    "A = [2 -2 -1.9; -2 6 -1; -1.9 -1 2];\n",
    "det(A)"
   ]
  },
  {
   "cell_type": "code",
   "execution_count": null,
   "id": "ad0791f7",
   "metadata": {},
   "outputs": [],
   "source": []
  }
 ],
 "metadata": {
  "kernelspec": {
   "display_name": "Octave",
   "language": "octave",
   "name": "octave"
  },
  "language_info": {
   "file_extension": ".m",
   "help_links": [
    {
     "text": "GNU Octave",
     "url": "https://www.gnu.org/software/octave/support.html"
    },
    {
     "text": "Octave Kernel",
     "url": "https://github.com/Calysto/octave_kernel"
    },
    {
     "text": "MetaKernel Magics",
     "url": "https://metakernel.readthedocs.io/en/latest/source/README.html"
    }
   ],
   "mimetype": "text/x-octave",
   "name": "octave",
   "version": "7.2.0"
  }
 },
 "nbformat": 4,
 "nbformat_minor": 5
}
